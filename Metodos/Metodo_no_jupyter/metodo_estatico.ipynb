{
 "cells": [
  {
   "cell_type": "markdown",
   "metadata": {},
   "source": [
    "1. O que são Métodos Estáticos?\n",
    "Métodos estáticos são métodos que não acessam nem modificam os atributos de uma classe ou de suas instâncias. Eles são definidos dentro da classe, mas não recebem automaticamente uma referência à instância ou à classe.\n",
    "\n",
    "2. Declaração de Métodos Estáticos:\n",
    "Métodos estáticos são definidos dentro da classe usando o decorador @staticmethod. Eles não recebem um parâmetro especial como self ou cls, o que significa que eles não têm acesso implícito à instância ou à classe."
   ]
  },
  {
   "cell_type": "code",
   "execution_count": null,
   "metadata": {},
   "outputs": [],
   "source": [
    "class MinhaClasse:\n",
    "    @staticmethod\n",
    "    def meu_metodo_estatico(parametro1, parametro2):\n",
    "        # Corpo do método\n",
    "        # Não há acesso a atributos da instância ou da classe"
   ]
  },
  {
   "cell_type": "markdown",
   "metadata": {},
   "source": [
    "3. Uso de Métodos Estáticos:\n",
    "Para chamar um método estático, você pode fazer isso diretamente na classe, sem precisar criar uma instância da classe."
   ]
  },
  {
   "cell_type": "code",
   "execution_count": null,
   "metadata": {},
   "outputs": [],
   "source": [
    "MinhaClasse.meu_metodo_estatico(argumento1, argumento2)"
   ]
  },
  {
   "cell_type": "markdown",
   "metadata": {},
   "source": [
    "4. Benefícios dos Métodos Estáticos:\n",
    "\n",
    "Utilidade Geral: Métodos estáticos podem ser usados para definir lógica que é relevante para a classe, mas não requer acesso aos atributos da instância ou da classe.\n",
    "\n",
    "Organização: Eles ajudam a manter o código organizado dentro da classe, agrupando funcionalidades relacionadas em um só lugar."
   ]
  },
  {
   "cell_type": "code",
   "execution_count": 1,
   "metadata": {},
   "outputs": [
    {
     "data": {
      "text/plain": [
       "(2, 3)"
      ]
     },
     "execution_count": 1,
     "metadata": {},
     "output_type": "execute_result"
    }
   ],
   "source": [
    "class Metodo:\n",
    "    @staticmethod\n",
    "    def metodo_estatico(oi, oi2):\n",
    "        return oi, oi2\n",
    "    \n",
    "Metodo.metodo_estatico(2,3)"
   ]
  }
 ],
 "metadata": {
  "kernelspec": {
   "display_name": ".venv",
   "language": "python",
   "name": "python3"
  },
  "language_info": {
   "codemirror_mode": {
    "name": "ipython",
    "version": 3
   },
   "file_extension": ".py",
   "mimetype": "text/x-python",
   "name": "python",
   "nbconvert_exporter": "python",
   "pygments_lexer": "ipython3",
   "version": "3.12.2"
  }
 },
 "nbformat": 4,
 "nbformat_minor": 2
}
