{
 "cells": [
  {
   "cell_type": "markdown",
   "metadata": {},
   "source": [
    "1. O que são Métodos de Classe?\n",
    "Em Python, métodos de classe são métodos que operam na classe como um todo, em vez de em instâncias individuais da classe. Isso significa que eles têm acesso apenas aos atributos da classe e não aos atributos das instâncias. Os métodos de classe são declarados usando o decorador @classmethod antes da definição do método.\n",
    "\n",
    "2. Declaração de Métodos de Classe:\n",
    "Um método de classe é definido na classe e recebe um parâmetro especial chamado cls, que é uma referência à própria classe em que o método está sendo definido. Por convenção, o primeiro parâmetro de um método de classe é chamado de cls, mas você pode usar qualquer nome válido para ele."
   ]
  },
  {
   "cell_type": "code",
   "execution_count": null,
   "metadata": {},
   "outputs": [],
   "source": [
    "class MinhaClasse:\n",
    "    atributo_da_classe = 0\n",
    "    \n",
    "    @classmethod\n",
    "    def meu_metodo_de_classe(cls, parametro1, parametro2):\n",
    "        # Corpo do método\n",
    "        # Acesso a atributos da classe usando cls\n",
    "        # Exemplo: cls.atributo_da_classe"
   ]
  },
  {
   "cell_type": "code",
   "execution_count": null,
   "metadata": {},
   "outputs": [],
   "source": []
  }
 ],
 "metadata": {
  "language_info": {
   "name": "python"
  }
 },
 "nbformat": 4,
 "nbformat_minor": 2
}
