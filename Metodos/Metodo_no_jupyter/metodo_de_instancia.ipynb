{
 "cells": [
  {
   "cell_type": "markdown",
   "metadata": {},
   "source": [
    "1. O que são Métodos de Instância?\n",
    "Métodos de instância são aqueles que operam em instâncias específicas de uma classe. Eles têm acesso aos atributos da instância através do parâmetro self, que é uma referência à própria instância.\n",
    "\n",
    "2. Declaração de Métodos de Instância:\n",
    "Os métodos de instância são definidos dentro da classe e são chamados usando a notação de ponto (.) em uma instância da classe. O primeiro parâmetro de um método de instância é sempre self, que representa a instância atual da classe."
   ]
  },
  {
   "cell_type": "code",
   "execution_count": null,
   "metadata": {},
   "outputs": [],
   "source": [
    "class MinhaClasse:\n",
    "    def meu_metodo_de_instancia(self, parametro1, parametro2):\n",
    "        # Corpo do método\n",
    "        # Acesso a atributos da instância usando self\n",
    "        # Exemplo: self.atributo_da_instancia"
   ]
  },
  {
   "cell_type": "markdown",
   "metadata": {},
   "source": [
    "3. Uso de Métodos de Instância:\n",
    "Para chamar um método de instância, você precisa criar uma instância da classe e, em seguida, chamar o método usando a notação de ponto (.)."
   ]
  },
  {
   "cell_type": "code",
   "execution_count": null,
   "metadata": {},
   "outputs": [],
   "source": [
    "objeto = MinhaClasse()\n",
    "objeto.meu_metodo_de_instancia(argumento1, argumento2)"
   ]
  },
  {
   "cell_type": "markdown",
   "metadata": {},
   "source": [
    "4. Benefícios dos Métodos de Instância:\n",
    "\n",
    "Manipulação de Dados: Os métodos de instância são frequentemente usados para manipular ou interagir com os dados específicos de uma instância da classe.\n",
    "\n",
    "Encapsulamento: Eles ajudam a manter o código organizado e encapsulado, permitindo que a lógica relacionada a uma instância específica seja definida de forma clara e coesa."
   ]
  },
  {
   "cell_type": "code",
   "execution_count": 7,
   "metadata": {},
   "outputs": [
    {
     "name": "stdout",
     "output_type": "stream",
     "text": [
      "Não sei Não sei2\n"
     ]
    }
   ],
   "source": [
    "class Teste:\n",
    "    def metodo_instancia(self, p1, p2):\n",
    "        self.p1 = p1\n",
    "        self.p2 = p2\n",
    "        \n",
    "        \n",
    "jorge = Teste()\n",
    "jorge.metodo_instancia(\"Não sei\", \"Não sei2\")\n",
    "print(jorge.p1, jorge.p2)"
   ]
  }
 ],
 "metadata": {
  "kernelspec": {
   "display_name": ".venv",
   "language": "python",
   "name": "python3"
  },
  "language_info": {
   "codemirror_mode": {
    "name": "ipython",
    "version": 3
   },
   "file_extension": ".py",
   "mimetype": "text/x-python",
   "name": "python",
   "nbconvert_exporter": "python",
   "pygments_lexer": "ipython3",
   "version": "3.12.2"
  }
 },
 "nbformat": 4,
 "nbformat_minor": 2
}
