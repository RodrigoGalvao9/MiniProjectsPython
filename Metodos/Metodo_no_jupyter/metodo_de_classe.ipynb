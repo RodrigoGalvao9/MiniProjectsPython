{
 "cells": [
  {
   "cell_type": "markdown",
   "metadata": {},
   "source": [
    "1. O que são Métodos de Classe?\n",
    "Em Python, métodos de classe são métodos que operam na classe como um todo, em vez de em instâncias individuais da classe. Isso significa que eles têm acesso apenas aos atributos da classe e não aos atributos das instâncias. Os métodos de classe são declarados usando o decorador @classmethod antes da definição do método.\n",
    "\n",
    "2. Declaração de Métodos de Classe:\n",
    "Um método de classe é definido na classe e recebe um parâmetro especial chamado cls, que é uma referência à própria classe em que o método está sendo definido. Por convenção, o primeiro parâmetro de um método de classe é chamado de cls, mas você pode usar qualquer nome válido para ele."
   ]
  },
  {
   "cell_type": "code",
   "execution_count": null,
   "metadata": {},
   "outputs": [],
   "source": [
    "class MinhaClasse:\n",
    "    atributo_da_classe = 0\n",
    "    \n",
    "    @classmethod\n",
    "    def meu_metodo_de_classe(cls, parametro1, parametro2):\n",
    "        # Corpo do método\n",
    "        # Acesso a atributos da classe usando cls\n",
    "        # Exemplo: cls.atributo_da_classe"
   ]
  },
  {
   "cell_type": "markdown",
   "metadata": {},
   "source": [
    "3. Uso de Métodos de Classe:\n",
    "Quando você define um método de classe em Python usando o decorador @classmethod, o primeiro parâmetro deve ser cls, que é uma referência à própria classe. Isso permite que você acesse os atributos da classe dentro do método."
   ]
  },
  {
   "cell_type": "code",
   "execution_count": null,
   "metadata": {},
   "outputs": [],
   "source": [
    "MinhaClasse.meu_metodo_de_classe(argumento1, argumento2)"
   ]
  },
  {
   "cell_type": "markdown",
   "metadata": {},
   "source": [
    "4. Retorno de Novas Instâncias:\n",
    "Um uso comum de métodos de classe é criar novas instâncias da classe com base em algum critério específico. Dentro do método de classe, você pode usar cls para criar e retornar uma nova instância da classe."
   ]
  },
  {
   "cell_type": "code",
   "execution_count": null,
   "metadata": {},
   "outputs": [],
   "source": [
    "@classmethod\n",
    "def criar_instancia(cls, argumentos):\n",
    "    # Lógica para criar uma nova instância\n",
    "    return cls(novos_argumentos)"
   ]
  },
  {
   "cell_type": "markdown",
   "metadata": {},
   "source": [
    "5. Benefícios dos Métodos de Classe:\n",
    "Organização: Os métodos de classe podem ser usados para definir lógica que é compartilhada por todas as instâncias da classe.\n",
    "Facilidade de Acesso: Eles permitem que você acesse e modifique atributos da classe sem precisar criar uma instância da classe.\n",
    "Encapsulamento: Métodos de classe ajudam a manter o código organizado e encapsulado, permitindo que a lógica relacionada à classe seja definida de forma clara e coesa.\n",
    "\n",
    "### Usado geralmente para criar métodos de fábrica"
   ]
  },
  {
   "cell_type": "code",
   "execution_count": 1,
   "metadata": {},
   "outputs": [
    {
     "name": "stdout",
     "output_type": "stream",
     "text": [
      "<class '__main__.Pratica'> , Os parametros: olá , Pedro\n"
     ]
    },
    {
     "data": {
      "text/plain": [
       "'uau'"
      ]
     },
     "execution_count": 1,
     "metadata": {},
     "output_type": "execute_result"
    }
   ],
   "source": [
    "class Pratica:\n",
    "    instancia_de_classe = \"uau\"\n",
    "    \n",
    "    def __init__(self, instancia_de_clase):\n",
    "        self.instancia_de_classe = instancia_de_clase\n",
    "    \n",
    "    @classmethod\n",
    "    def hora_da_verdade(cls, parametro1, parametro2):\n",
    "        return f\"{cls} , Os parametros: {parametro1} , {parametro2}\"\n",
    "    \n",
    "resultado = Pratica.hora_da_verdade(\"olá\", \"Pedro\")\n",
    "print(resultado )\n",
    "Pratica.instancia_de_classe"
   ]
  },
  {
   "cell_type": "code",
   "execution_count": null,
   "metadata": {},
   "outputs": [],
   "source": []
  }
 ],
 "metadata": {
  "kernelspec": {
   "display_name": ".venv",
   "language": "python",
   "name": "python3"
  },
  "language_info": {
   "codemirror_mode": {
    "name": "ipython",
    "version": 3
   },
   "file_extension": ".py",
   "mimetype": "text/x-python",
   "name": "python",
   "nbconvert_exporter": "python",
   "pygments_lexer": "ipython3",
   "version": "3.12.2"
  }
 },
 "nbformat": 4,
 "nbformat_minor": 2
}
